{
  "nbformat": 4,
  "nbformat_minor": 0,
  "metadata": {
    "colab": {
      "name": "Homework1.ipynb",
      "provenance": [],
      "collapsed_sections": [],
      "authorship_tag": "ABX9TyPmXfKX0oGBM/ZLWGsW3zX1",
      "include_colab_link": true
    },
    "kernelspec": {
      "name": "python3",
      "display_name": "Python 3"
    }
  },
  "cells": [
    {
      "cell_type": "markdown",
      "metadata": {
        "id": "view-in-github",
        "colab_type": "text"
      },
      "source": [
        "<a href=\"https://colab.research.google.com/github/Danielle504/Alexa-CS-Interview-Skill/blob/master/Homework1.ipynb\" target=\"_parent\"><img src=\"https://colab.research.google.com/assets/colab-badge.svg\" alt=\"Open In Colab\"/></a>"
      ]
    },
    {
      "cell_type": "markdown",
      "metadata": {
        "id": "3PogzG5qt7rS",
        "colab_type": "text"
      },
      "source": [
        "Homework 1 takes in two matrices and multiplies them together to form a product.\n",
        "Use the commented out commands to make a variety of test cases."
      ]
    },
    {
      "cell_type": "markdown",
      "metadata": {
        "id": "uYZRTSxavrYs",
        "colab_type": "text"
      },
      "source": [
        "Here is the equation used for a 3x3 matrix:\n",
        "\n",
        "$$\\begin{bmatrix}\n",
        "    a  &  b  & c    \\\\\n",
        "\\end{bmatrix}\n",
        "\\times\n",
        "\\begin{bmatrix}\n",
        "    d  &  e  &  f      \\\\\n",
        "\\end{bmatrix}\n",
        "=\n",
        "\\begin{bmatrix}\n",
        "    (a \\times d) + (b \\times e)  +  (c \\times f) \\\\\n",
        "\\end{bmatrix}$$\n",
        "\n",
        "Here is the an example used for a 2x2 matrix:\n",
        "\n",
        "$$\\begin{bmatrix}\n",
        "    3  &  5    \\\\\n",
        "\\end{bmatrix}\n",
        "\\times\n",
        "\\begin{bmatrix}\n",
        "    2  &  4     \\\\\n",
        "\\end{bmatrix}\n",
        "=\n",
        "\\begin{bmatrix}\n",
        "    (3 \\times 2) + (3 \\times 4)  +  (5 \\times 2) + (5 \\times 4) \\\\\n",
        "\\end{bmatrix} = 26 $$\n",
        "\n",
        "For two matrices to be compatible, they have to have the same number of cells but inverted:\n",
        "\n",
        "$$\\begin{bmatrix}\n",
        "    3  &  5  & 7  \\\\\n",
        "\\end{bmatrix}\n",
        "\\times\n",
        "\\begin{bmatrix}\n",
        "    2  &  4     \\\\\n",
        "\\end{bmatrix}\n",
        "=\n",
        "\\begin{bmatrix}\n",
        "    (3 \\times 2) + (3 \\times 4)  +  (5 \\times 2) + (5 \\times 4) \\\\\n",
        "\\end{bmatrix} = incompatible $$"
      ]
    },
    {
      "cell_type": "code",
      "metadata": {
        "id": "Wdu2MTcpCIeJ",
        "colab_type": "code",
        "colab": {}
      },
      "source": [
        "# Danielle Garsten\n",
        "# CAP4630, Spring 2020\n",
        "# Homework 1\n",
        "\n",
        "import numpy as np\n",
        "\n",
        "a = np.array([3, 5])\n",
        "b = np.array([2, 4])\n",
        "matrix = [a, b]\n",
        "\n",
        "def multiply_matrices(matrix):\n",
        "  try:\n",
        "    sol = np.dot(matrix[0], matrix[1])\n",
        "  except:\n",
        "    print(\"Error, cannot print matrices: 0 & 1\")\n",
        "    return\n",
        "  for i in range(2, len(matrix)):\n",
        "    try:\n",
        "      sol = np.dot(sol, matrix[i])\n",
        "    except:\n",
        "      print(\"Error, cannot print matrices: sol & i\")\n",
        "  print(\"Solution: \\n\", sol)\n",
        "\n",
        "multiply_matrices(matrix)\n",
        "matrix.clear()"
      ],
      "execution_count": 0,
      "outputs": []
    },
    {
      "cell_type": "markdown",
      "metadata": {
        "id": "wocg8T4wt5sz",
        "colab_type": "text"
      },
      "source": [
        ""
      ]
    }
  ]
}